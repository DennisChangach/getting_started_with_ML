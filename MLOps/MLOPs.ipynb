{
 "cells": [
  {
   "cell_type": "markdown",
   "metadata": {},
   "source": [
    "# MLOPs"
   ]
  },
  {
   "cell_type": "markdown",
   "metadata": {},
   "source": [
    "Machine Learning Operations(MLOPS) - Application of DevOps principle to machine learning wokrflow\n",
    "\n",
    "The ML Process Flow:\n",
    "- EDA >> Data Prep (Feature Engineering)>>Model Training >> Deployment >> Monitoring\n",
    "\n",
    "Machine Learning Project Life Cycle:\n",
    "- Scoping: Defining the project\n",
    "- Data: Data Collection & Data Prep: Defining the data and establish baseline >> Label and organise the data\n",
    "- Modelling: Select and train model and perform error analysis\n",
    "- Deployment: Deploy in production and monitor and maintain the system\n",
    "\n",
    "\n",
    "Sometimes you might want to separate your training & deployment env. As training might need more GPUs for parallel processing\n",
    "while deployment might use a docker with load balancer to manage demand."
   ]
  },
  {
   "cell_type": "markdown",
   "metadata": {},
   "source": [
    "**Model Drift**\n",
    "- Model Drift: \n",
    "- Data Drift/Concept Drift:  - Seasonality, Consumer Preferences,Changing type of data serving different type of customer segments\n",
    "\n",
    "Concept Drift & Data Drift: data changes after the model has been deployed\n",
    "- Example difference in purchase behaviours in customers in a fraud detection model\n",
    "Data Drift - If the input data changes  - changes in data distribution\n",
    "Concept Drift - The desired mapping between X>Y changes"
   ]
  },
  {
   "cell_type": "markdown",
   "metadata": {},
   "source": [
    "Example of speech recognition project:\n",
    "- Scoping:What are the key metrics? - accuracy,latency,throughput\n",
    "- Data Stage: Data Defintion questions: Is the data labelled consitently? How much silence? How to perform volumne normization?\n",
    "- Modelling: Can hold the model fixed and iterate on the data & hyperparameters: Error analyis can help you systematically improve your model and data\n",
    "- Deployment:"
   ]
  },
  {
   "cell_type": "markdown",
   "metadata": {},
   "source": [
    "Prediction Service:\n",
    "- Batch Service vs Realtime: Eg. Demand Forecasting is batch to predict for the next 2 weeks\n",
    "- Cloud vs Edge/Browser - mobile speech recogniton system on phones or in a car?\n",
    "- Compute resources(CPU/GPU/memory)\n",
    "- Latency,throughput(Queries/second)\n",
    "- Logging\n"
   ]
  },
  {
   "cell_type": "markdown",
   "metadata": {},
   "source": [
    "First Deployment vs Maintenance\n",
    "\n",
    "Deployment Patterns:\n",
    "- Using shadow mode: Run in parralel with the current process and not use the ML for any decision made. E.g mobile phone visual inspection\n",
    "(Helps to verify the performance of the model)\n",
    "- Canary Deployment: - Rolling out to a small fracton (say 5%) e.g demand forecasting of certain categories>> Monitor system and ramp up the traffic gradually\n",
    "- Blue-green deployment: - Switch between old and new version. Enables an easy way to enable rollback\n",
    "\n",
    "Degrees of automation:\n",
    "- Human Only >> Shadow Mode >> \n",
    "- AI assistance >> Partial Automation(cases where the model is not confident): human in the loop\n",
    "- Full Automation\n",
    "\n",
    "Deployment Monitoring:\n",
    "- Using monitoring dashboard: Server Load\n",
    "- Fraction of non-null outputs\n",
    "- Fraction of missing input values\n",
    "\n",
    "Software Metrics:\n",
    "- Memory\n",
    "- Compute\n",
    "- Latency\n",
    "- Throughput\n",
    "- Server Load\n",
    "\n",
    "Input metrics - based on the input data; e.g number of missing value\n",
    "\n",
    "Output metrics: - # times return \"\", number of times the user rephrase their question, or feedback whether use found it useful or not\n",
    "\n",
    "Set thresolds for alarms\n",
    "\n",
    "Model retraining:\n",
    "\n"
   ]
  },
  {
   "cell_type": "markdown",
   "metadata": {},
   "source": [
    "**Machine Learning using GCP**\n",
    "- AutoML Allows training custom enterprise model\n",
    "- ML APIs - pre-trained models that can be used out-of the box e.g sentiment analysis\n",
    "- Gen AI Studio: Tune generative models to prod\n",
    "- Reinforcement Learning with Human Feedback(RLHF): optimizing machine learning model performance using human feedback.\n",
    "- BigQuery ML: ML directly in your data warehouse, use popular models in SQL. \n",
    "- Google Colab: Creating notebooks\n",
    "- Vertex AI workbench\n",
    "- Vertex AI custom training\n",
    "- Vertex AI Matching Engine"
   ]
  },
  {
   "cell_type": "code",
   "execution_count": null,
   "metadata": {},
   "outputs": [],
   "source": []
  },
  {
   "cell_type": "code",
   "execution_count": null,
   "metadata": {},
   "outputs": [],
   "source": []
  },
  {
   "cell_type": "code",
   "execution_count": null,
   "metadata": {},
   "outputs": [],
   "source": []
  },
  {
   "cell_type": "code",
   "execution_count": null,
   "metadata": {},
   "outputs": [],
   "source": []
  }
 ],
 "metadata": {
  "language_info": {
   "name": "python"
  }
 },
 "nbformat": 4,
 "nbformat_minor": 2
}
